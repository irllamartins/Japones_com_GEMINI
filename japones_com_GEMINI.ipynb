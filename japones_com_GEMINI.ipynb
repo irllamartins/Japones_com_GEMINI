{
  "nbformat": 4,
  "nbformat_minor": 0,
  "metadata": {
    "colab": {
      "provenance": []
    },
    "kernelspec": {
      "name": "python3",
      "display_name": "Python 3"
    },
    "language_info": {
      "name": "python"
    }
  },
  "cells": [
    {
      "cell_type": "code",
      "source": [
        "#Instalando o SDK do Google\n",
        "!pip install -q -U google-generativeai"
      ],
      "metadata": {
        "id": "43kIuF61Xrx0"
      },
      "execution_count": 119,
      "outputs": []
    },
    {
      "cell_type": "markdown",
      "source": [
        "Configurações"
      ],
      "metadata": {
        "id": "DLZjgfs-YZ8W"
      }
    },
    {
      "cell_type": "code",
      "execution_count": 6,
      "metadata": {
        "id": "Da13gbOdQfQo"
      },
      "outputs": [],
      "source": [
        "#Importações e configurações iniciais\n",
        "import numpy as np\n",
        "import pandas as pd\n",
        "import random\n",
        "import google.generativeai as genai\n",
        "from google.colab import userdata\n",
        "from IPython.display import clear_output\n",
        "\n",
        "# configurar api_key\n",
        "api_key = userdata.get(\"SECRET_KEY\")\n",
        "genai.configure(api_key=api_key )"
      ]
    },
    {
      "cell_type": "code",
      "source": [
        "# configuração de resposta precisa ou criativa(criativa(0)< valor<precisa(1))\n",
        "generation_config = {\n",
        "  \"temperature\": 0,\n",
        "  \"candidate_count\": 1\n",
        "}"
      ],
      "metadata": {
        "id": "Y6DOCbBPUIGj"
      },
      "execution_count": 7,
      "outputs": []
    },
    {
      "cell_type": "code",
      "source": [
        "safety_settings={\n",
        "    'HATE': 'BLOCK_NONE',\n",
        "    'HARASSMENT': 'BLOCK_NONE',\n",
        "    'SEXUAL' : 'BLOCK_NONE',\n",
        "    'DANGEROUS' : 'BLOCK_NONE'\n",
        "    }"
      ],
      "metadata": {
        "id": "wXXRWK1lYliK"
      },
      "execution_count": 8,
      "outputs": []
    },
    {
      "cell_type": "markdown",
      "source": [],
      "metadata": {
        "id": "HSI5C_aOYHMX"
      }
    },
    {
      "cell_type": "code",
      "source": [
        "# configurando modelo\n",
        "model = \"models/embedding-001\""
      ],
      "metadata": {
        "id": "5bFZHlFencgN"
      },
      "execution_count": 9,
      "outputs": []
    },
    {
      "cell_type": "code",
      "source": [
        "# função para capturar o quanto o dado tem haver com numeros\n",
        "def embed_fn(title, text):\n",
        "  return genai.embed_content(model=model,\n",
        "                                 content=text,\n",
        "                                 title=title,\n",
        "                                 task_type=\"RETRIEVAL_DOCUMENT\")[\"embedding\"]"
      ],
      "metadata": {
        "id": "QhQV-vPjj4Pr"
      },
      "execution_count": 10,
      "outputs": []
    },
    {
      "cell_type": "code",
      "source": [
        "#Listagem de documentos que serão buscados\n",
        "documentos = [\n",
        "    {\n",
        "    \"palavra\": \"ありがとう\",\n",
        "    \"traducao\": \"Obrigado\"\n",
        "    },\n",
        "\n",
        "   {\n",
        "    \"palavra\": \"はじめまして\",\n",
        "     \"traducao\": \"Praze em conhece-lo\"\n",
        "     },\n",
        "\n",
        "   {\n",
        "    \"palavra\": \"行く\",\n",
        "     \"traducao\": \"Ir\"\n",
        "     }\n",
        "]\n"
      ],
      "metadata": {
        "id": "7vdu5QZNSTzK"
      },
      "execution_count": 11,
      "outputs": []
    },
    {
      "cell_type": "code",
      "source": [
        "# transformando em um dataFrame e editando nome coluna\n",
        "df = pd.DataFrame(documentos)\n",
        "df.columns = [\"palavra\",  \"traducao\"]"
      ],
      "metadata": {
        "id": "sib6I5EkSZMi"
      },
      "execution_count": 12,
      "outputs": []
    },
    {
      "cell_type": "code",
      "source": [
        "# Adicionando os embedding no dataFrame(linha por linha)\n",
        "df[\"Embeddings\"] = df.apply(lambda row: embed_fn(row[\"palavra\"], row[ \"traducao\"]), axis=1)"
      ],
      "metadata": {
        "id": "1xPDS2gVj0Yr"
      },
      "execution_count": 13,
      "outputs": []
    },
    {
      "cell_type": "code",
      "source": [
        "# gera a resposta com base no embedding da consulta com a base\n",
        "def gerar_e_buscar_consulta(consulta, base, model):\n",
        "\n",
        "  embedding_da_consulta = genai.embed_content(model=model,\n",
        "                                              content=consulta,\n",
        "                                              task_type=\"RETRIEVAL_QUERY\")[\"embedding\"]\n",
        "\n",
        "  produtos_escalares = np.dot(np.stack(df[\"Embeddings\"]), embedding_da_consulta)\n",
        "\n",
        "  indice = np.argmax(produtos_escalares)\n",
        "  return df.iloc[indice][ \"traducao\"]"
      ],
      "metadata": {
        "id": "ibQ0MqWATtI6"
      },
      "execution_count": 14,
      "outputs": []
    },
    {
      "cell_type": "code",
      "source": [
        "modelGenerative = genai.GenerativeModel(model_name='gemini-1.0-pro',generation_config=generation_config,safety_settings=safety_settings)"
      ],
      "metadata": {
        "id": "Uh8P20bnUUMi"
      },
      "execution_count": 15,
      "outputs": []
    },
    {
      "cell_type": "code",
      "source": [
        "def mensagemMenu():\n",
        "  print(\"\"\"\n",
        "Digite 1 para armazenar a palavra e sua tradução\n",
        "Digite 2 para formar frase\n",
        "Digite 3 traduza a frase apresentada\n",
        "\n",
        "Obs: para finalizar digite '0'\n",
        "\"\"\")\n"
      ],
      "metadata": {
        "id": "KC_k4wEOCXa_"
      },
      "execution_count": 41,
      "outputs": []
    },
    {
      "cell_type": "code",
      "source": [
        "chat = modelGenerative.start_chat(history=[])\n",
        "\n",
        "print(\"\"\"*-------------------*\n",
        "| Seja Bem vindo!!! |\n",
        "*-------------------*\"\"\")\n",
        "mensagemMenu()\n",
        "\n",
        "prompt = int(input('Esperando prompt: '))\n",
        "while prompt !=0:\n",
        "\n",
        "      if prompt==1:\n",
        "        print(\"\"\"\n",
        "        *--------------------------------------------*\n",
        "        | Digite a palavra(ex: arigatou - Obrigado)  |\n",
        "        | Obs: para finalizar digite fim             |\n",
        "        *--------------------------------------------*\n",
        "        \"\"\")\n",
        "        word = input('Digite a palavra: ').split(\"-\")\n",
        "\n",
        "        # Adiciona palavras na lista\n",
        "        while word[0] != \"fim\":\n",
        "          documentos.append({\"palavra\":word[0].strip(),\"traducao\":word[1].strip()})\n",
        "          word = input('Digite a palavra: ').split(\"-\")\n",
        "\n",
        "        clear_output()\n",
        "      if prompt==2:\n",
        "        if len(documentos)>1:\n",
        "\n",
        "           # lista de palavra\n",
        "           palavras = list(map(lambda doc: doc[\"palavra\"], documentos))\n",
        "           promptAdapted = f\"Escreva uma frase com uma ou mais palavras dessa lista em uma frase simples do cotidiano para uma iniciante da lingua Japonesa que termine com um ponto final e sua estrutura com tradução, caso tenha kanji coloque seu furigana: {palavras}\"\n",
        "\n",
        "           # gera uma frase com as palavras\n",
        "           response = chat.send_message(promptAdapted)\n",
        "           print(\"----------\"*len(response.text))\n",
        "           print(\"Resposta:\", response.text, '\\n')\n",
        "           print(\"----------\"*len(response.text))\n",
        "        else:\n",
        "          print(\"Não existe palavra armazenada\")\n",
        "      if prompt==3:\n",
        "        # Seleciona aleatoriamente um objeto da lista\n",
        "        documento_aleatorio = random.choice(documentos)\n",
        "\n",
        "        # Obtém a palavra do objeto selecionado\n",
        "        palavra_aleatoria = documento_aleatorio[\"palavra\"]\n",
        "        traducaoArmazenada = documento_aleatorio[\"traducao\"]\n",
        "\n",
        "        print(f\"A palavra selecionada é: {palavra_aleatoria}\")\n",
        "        traducao = input('Digite a tradução da palavra: ')\n",
        "\n",
        "        # valida se a palavra é igual ou se é parecida\n",
        "        promptAdapted = f\"Essas palavras são parecidas {traducao} com {traducaoArmazenada}?(sim/não)\"\n",
        "        response = chat.send_message(promptAdapted)\n",
        "\n",
        "        #caso for parecida ou igual a tradução\n",
        "        if response.text ==\"sim\":\n",
        "          response = chat.send_message(f\"Exiba uma mensagem parabenizando um estudade de japones com {traducaoArmazenada}\")\n",
        "         #caso for errado\n",
        "        else:\n",
        "          print(f\"\\nA tradução da palavra é: {traducaoArmazenada}\")\n",
        "          response = chat.send_message(f\"Exiba  uma  mensagem de incentivo\")\n",
        "\n",
        "        print(f\"\"\"{\"-\"*len(response.text)}\n",
        "{response.text}\n",
        "{\"-\"*len(response.text)}\"\"\")\n",
        "      mensagemMenu()\n",
        "      prompt = int(input('Esperando prompt: '))\n",
        "\n",
        "      #limpa o console da saida da celula\n",
        "      clear_output()"
      ],
      "metadata": {
        "colab": {
          "base_uri": "https://localhost:8080/",
          "height": 473
        },
        "id": "zdM-Og8bY5-T",
        "outputId": "0fcb329a-2043-4fe3-913b-b691808e8f61",
        "collapsed": true
      },
      "execution_count": null,
      "outputs": [
        {
          "output_type": "stream",
          "name": "stdout",
          "text": [
            "*-------------------*\n",
            "| Seja Bem vindo!!! |\n",
            "*-------------------*\n",
            "\n",
            "Digite 1 para armazenar a palavra e sua tradução\n",
            "Digite 2 para formar frase\n",
            "Digite 3 traduza a frase apresentada\n",
            "\n",
            "Obs: para finalizar digite '0'  \n",
            "\n",
            "Esperando prompt: 2\n",
            "----------------------------------------------------------------------------------------------------------------------------------------------------------------------------------------------------------------------------------------------------------------------------------------------------------------------------------------------------------------------------------------------------------------------------------------------------------------------------------------------------------------------------------------------------------------------------------------------------------------------------------------------------------------------------------------------------------------------------------------------------------------------------------------------------------------------------------------------------------------------------------------------------------------------------------------------------------------------------------------------------------\n",
            "Resposta: すみません、道を教えてください。\n",
            "Sumimasen, michi o oshiete kudasai.\n",
            "Desculpe, você poderia me mostrar o caminho? \n",
            "\n",
            "----------------------------------------------------------------------------------------------------------------------------------------------------------------------------------------------------------------------------------------------------------------------------------------------------------------------------------------------------------------------------------------------------------------------------------------------------------------------------------------------------------------------------------------------------------------------------------------------------------------------------------------------------------------------------------------------------------------------------------------------------------------------------------------------------------------------------------------------------------------------------------------------------------------------------------------------------------------------------------------------------------\n",
            "\n",
            "Digite 1 para armazenar a palavra e sua tradução\n",
            "Digite 2 para formar frase\n",
            "Digite 3 traduza a frase apresentada\n",
            "\n",
            "Obs: para finalizar digite '0'  \n",
            "\n"
          ]
        }
      ]
    },
    {
      "cell_type": "code",
      "source": [
        "print(chat.history)"
      ],
      "metadata": {
        "id": "SRbBnsU1qZT0"
      },
      "execution_count": null,
      "outputs": []
    }
  ]
}